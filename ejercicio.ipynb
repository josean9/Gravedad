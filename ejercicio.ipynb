{
 "cells": [
  {
   "cell_type": "code",
   "execution_count": 1,
   "metadata": {},
   "outputs": [],
   "source": [
    "import pandas as pd\n",
    "import numpy as np\n",
    "import matplotlib.pyplot"
   ]
  },
  {
   "cell_type": "code",
   "execution_count": null,
   "metadata": {},
   "outputs": [],
   "source": [
    "from faker import Faker\n",
    "import random\n",
    "fake = Faker()\n",
    "planet_gravity = {\n",
    "    \"Tierra\": 9.8,\n",
    "    \"Marte\": 3.7,\n",
    "    \"Júpiter\": 24.8,\n",
    "    \"Saturno\": 9.0,\n",
    "    \"Urano\": 8.7,\n",
    "    \"Neptuno\": 11.0\n",
    "}\n",
    "def generate_sample():\n",
    "    L = round(random.uniform(0.8,2.5), 2)\n",
    "    t = round(random.uniform(0.4,0.7), 2)\n",
    "    grav_calculada = round((2*L)/(t**2), 2)\n",
    "    if abs(grav_calculada-9.8) < abs(grav_calculada- 9):\n",
    "        most_probable_planet= \"tierra\"\n",
    "        second_most_probable_planet = \"saturno\"\n",
    "    elif abs(grav_calculada-9) < abs(grav_calculada-9.8):\n",
    "        most_probable_planet= \"saturno\"\n",
    "        second_most_probable_planet = \"tierra\"\n",
    "    return {\n",
    "        \"ID\" : fake.uuid(),\n",
    "        \"Longitud\": L,\n",
    "        \"Tiempo\": t,\n",
    "        \"Gravedad Calculada\": grav_calculada,\n",
    "        \"Planeta más probable\": most_probable_planet,\n",
    "        \"Segundo planeta más probable\": second_most_probable_planet\n",
    "     }\n",
    "dataset = [generate_sample() for i in range(100)]\n",
    "for sample in dataset:\n",
    "    print(sample)"
   ]
  },
  {
   "cell_type": "markdown",
   "metadata": {},
   "source": []
  },
  {
   "cell_type": "code",
   "execution_count": null,
   "metadata": {},
   "outputs": [],
   "source": []
  }
 ],
 "metadata": {
  "kernelspec": {
   "display_name": "Python 3 (ipykernel)",
   "language": "python",
   "name": "python3"
  },
  "language_info": {
   "codemirror_mode": {
    "name": "ipython",
    "version": 3
   },
   "file_extension": ".py",
   "mimetype": "text/x-python",
   "name": "python",
   "nbconvert_exporter": "python",
   "pygments_lexer": "ipython3",
   "version": "3.10.11"
  },
  "vscode": {
   "interpreter": {
    "hash": "ad3b0cd1acfef684cc2fde4e9122a3101adc2b8d9568ead10c63363fe6c1f032"
   }
  }
 },
 "nbformat": 4,
 "nbformat_minor": 2
}
