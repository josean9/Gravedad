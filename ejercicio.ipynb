{
 "cells": [
  {
   "cell_type": "code",
   "execution_count": 1,
   "metadata": {},
   "outputs": [],
   "source": [
    "import pandas as pd\n",
    "import numpy as np\n",
    "import matplotlib.pyplot"
   ]
  },
  {
   "cell_type": "code",
   "execution_count": null,
   "metadata": {},
   "outputs": [],
   "source": [
    "from faker import Faker\n",
    "import random\n",
    "fake = Faker()\n",
    "planet_gravity = {\n",
    "    \"Tierra\": 9.8,\n",
    "    \"Marte\": 3.7,\n",
    "    \"Júpiter\": 24.8,\n",
    "    \"Saturno\": 9.0,\n",
    "    \"Urano\": 8.7,\n",
    "    \"Neptuno\": 11.0\n",
    "}\n",
    "def generate_sample():\n",
    "    L = round(random.uniform(0.8,2.5), 2)\n",
    "    t = round(random.uniform(0.4,0.7), 2)\n",
    "    grav_calculada = round((2*L)/(t**2), 2)\n",
    "    if abs(grav_calculada-9.8) < abs(grav_calculada- 9):\n",
    "        most_probable_planet= \"tierra\"\n",
    "        second_most_probable_planet = \"saturno\"\n",
    "    elif abs(grav_calculada-9) < abs(grav_calculada-9.8):\n",
    "        most_probable_planet= \"saturno\"\n",
    "        second_most_probable_planet = \"tierra\"\n",
    "    return {\n",
    "        \"ID\" : fake.uuid(),\n",
    "        \"Longitud\": L,\n",
    "        \"Tiempo\": t,\n",
    "        \"Gravedad Calculada\": grav_calculada,\n",
    "        \"Planeta más probable\": most_probable_planet,\n",
    "        \"Segundo planeta más probable\": second_most_probable_planet\n",
    "     }\n",
    "dataset = [generate_sample() for i in range(100)]\n",
    "\n",
    "df= pd.DataFrame(dataset)\n",
    "print(df.describe())\n",
    "df.hist(column=[\"Longitud\", \"Tiempo\", \"Gravedad Calculada\"])\n",
    "plt.show()\n",
    "\n",
    "plt.scatter(df[\"Longitud\"], df[\"Tiempo\"])\n",
    "plt.xlabel(\"Longitud\")\n",
    "plt.ylabel(\"Tiempo\")\n",
    "plt.show()\n",
    "\n",
    "label_encoder = LabelEncoder()\n",
    "df[\"Planeta mas probable\"] = label_encoder.fit_transform(df[\"Planeta mas probble\"])\n",
    "df[\"2do planeta mas proable\"] = label_encoder.fit_transform(df[\"2do planeta mas probble\"])\n",
    "\n",
    "print(df.corr())\n",
    "\n",
    "\n",
    "\n"
   ]
  },
  {
   "cell_type": "code",
   "execution_count": null,
   "metadata": {},
   "outputs": [],
   "source": [
    "from sklearn.linear_model import linearRegresion\n",
    "X= df[\"Longitud\"].values.reshape(-1,1)\n",
    "y = df[\"Tiempo\"].values.reshape(-1,1)\n",
    "\n",
    "model=LinearReression()\n",
    "model.fit(X,y)\n",
    " y_pred = model.predict(X)\n",
    "\n"
   ]
  },
  {
   "cell_type": "code",
   "execution_count": null,
   "metadata": {},
   "outputs": [],
   "source": []
  }
 ],
 "metadata": {
  "kernelspec": {
   "display_name": "Python 3 (ipykernel)",
   "language": "python",
   "name": "python3"
  },
  "language_info": {
   "codemirror_mode": {
    "name": "ipython",
    "version": 3
   },
   "file_extension": ".py",
   "mimetype": "text/x-python",
   "name": "python",
   "nbconvert_exporter": "python",
   "pygments_lexer": "ipython3",
   "version": "3.10.11"
  },
  "vscode": {
   "interpreter": {
    "hash": "ad3b0cd1acfef684cc2fde4e9122a3101adc2b8d9568ead10c63363fe6c1f032"
   }
  }
 },
 "nbformat": 4,
 "nbformat_minor": 2
}
